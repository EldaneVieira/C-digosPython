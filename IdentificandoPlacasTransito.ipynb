{
  "cells": [
    {
      "cell_type": "markdown",
      "metadata": {
        "id": "45jXfJUS4wE0"
      },
      "source": [
        "# Identificando placas de trânsito\n",
        "\n"
      ]
    },
    {
      "cell_type": "markdown",
      "metadata": {
        "id": "BKKwtlIu4wE4"
      },
      "source": [
        "## Preparação dos dados de treinamento"
      ]
    },
    {
      "cell_type": "code",
      "execution_count": null,
      "metadata": {
        "id": "570UTTOnZrie"
      },
      "outputs": [],
      "source": [
        "import numpy as np\n",
        "import zipfile\n",
        "import pprint\n",
        "\n",
        "from skimage.transform import resize\n",
        "from imageio import imread\n",
        "\n",
        "import matplotlib.pyplot as plt\n",
        "%matplotlib inline\n",
        "\n",
        "import warnings\n",
        "warnings.filterwarnings(\"ignore\")\n",
        "\n",
        "import tensorflow as tf\n",
        "from tensorflow import keras\n",
        "from tensorflow.keras.models import Sequential\n",
        "from tensorflow.keras.optimizers import Adam\n",
        "from tensorflow.keras.preprocessing.image import ImageDataGenerator \n",
        "from tensorflow.keras.utils import to_categorical\n",
        "from tensorflow.keras.layers import Conv2D, MaxPooling2D\n",
        "from tensorflow.keras.layers import Flatten, Dense, Dropout\n",
        "import urllib.request\n",
        "import os.path"
      ]
    },
    {
      "cell_type": "code",
      "execution_count": null,
      "metadata": {
        "id": "_UNEK_X2ZP5P"
      },
      "outputs": [],
      "source": [
        "if not os.path.exists(\"GTSRB_Final_Training_Images.zip\"):\n",
        "    url = (\"https://sid.erda.dk/public/archives/\"\n",
        "    + \"daaeac0d7ce1152aea9b61d9f1e19370/\"\n",
        "    + \"GTSRB_Final_Training_Images.zip\")\n",
        "    filename = \"./GTSRB_Final_Training_Images.zip\"\n",
        "    urllib.request.urlretrieve(url, filename)"
      ]
    },
    {
      "cell_type": "code",
      "execution_count": null,
      "metadata": {
        "id": "VUiHtNGJsBuT"
      },
      "outputs": [],
      "source": [
        "IMG_SIZE = 32\n",
        "TEST_SIZE = 0.2"
      ]
    },
    {
      "cell_type": "code",
      "execution_count": null,
      "metadata": {
        "id": "pJJ8P5d2I1cF"
      },
      "outputs": [],
      "source": [
        "X, Xt, y, yt = list(), list(), list(), list()\n",
        "\n",
        "archive = zipfile.ZipFile(\n",
        "          'GTSRB_Final_Training_Images.zip', 'r')\n",
        "file_paths = [file for file in archive.namelist() \n",
        "              if '.ppm' in file]\n",
        "\n",
        "for filename in file_paths:\n",
        "    with archive.open(filename) as img_file:\n",
        "        img = imread(img_file.read())\n",
        "    img = resize(img, \n",
        "                 output_shape=(IMG_SIZE, IMG_SIZE),\n",
        "                 mode='reflect', anti_aliasing=True)\n",
        "    img_class = int(filename.split('/')[-2])\n",
        "    \n",
        "    if (hash(filename) % 1000) / 1000 > TEST_SIZE:\n",
        "        X.append(img)\n",
        "        y.append(img_class)\n",
        "    else:\n",
        "        Xt.append(img)\n",
        "        yt.append(img_class)\n",
        "\n",
        "archive.close()"
      ]
    },
    {
      "cell_type": "code",
      "execution_count": null,
      "metadata": {
        "colab": {
          "base_uri": "https://localhost:8080/"
        },
        "id": "5KZsP3GIZ6AI",
        "outputId": "4f4cfc06-9357-4ea6-9173-69af67894e3f"
      },
      "outputs": [
        {
          "output_type": "stream",
          "name": "stdout",
          "text": [
            "Train size:31410 test size:7799 (0.199)\n"
          ]
        }
      ],
      "source": [
        "test_ratio = len(Xt) / len(file_paths)\n",
        "print(\"Train size:{} test size:{} ({:0.3f})\".format(len(X), \n",
        "                len(Xt), \n",
        "                test_ratio))"
      ]
    },
    {
      "cell_type": "code",
      "execution_count": null,
      "metadata": {
        "id": "AeVvZi61s87C"
      },
      "outputs": [],
      "source": [
        "classes, dist = np.unique(y+yt, return_counts=True)\n",
        "NUM_CLASSES = len(classes)\n",
        "print (\"Qnt classes:{}\".format(NUM_CLASSES))\n"
      ]
    },
    {
      "cell_type": "code",
      "execution_count": null,
      "metadata": {
        "id": "z0ULObCbxO97"
      },
      "outputs": [],
      "source": [
        "class_weight = {c:dist[c]/np.sum(dist) for c in classes}"
      ]
    },
    {
      "cell_type": "markdown",
      "metadata": {
        "id": "zWYudzUH4wFi"
      },
      "source": [
        "## Executando classificação"
      ]
    },
    {
      "cell_type": "code",
      "execution_count": null,
      "metadata": {
        "id": "MW88y4HLbkpJ"
      },
      "outputs": [],
      "source": [
        "batch_size = 256\n",
        "tgen=ImageDataGenerator(rescale=1./255,\n",
        "                        rotation_range=5,\n",
        "                        width_shift_range=0.10, \n",
        "                        height_shift_range=0.10)\n",
        "\n",
        "train_gen = tgen.flow(np.array(X), \n",
        "                      to_categorical(y), \n",
        "                      batch_size=batch_size)"
      ]
    },
    {
      "cell_type": "code",
      "execution_count": null,
      "metadata": {
        "id": "sSYl85NofHc7"
      },
      "outputs": [],
      "source": [
        "vgen=ImageDataGenerator(rescale=1./255)\n",
        "\n",
        "val_gen = vgen.flow(np.array(Xt), \n",
        "                    to_categorical(yt), \n",
        "                    batch_size=batch_size)"
      ]
    },
    {
      "cell_type": "code",
      "execution_count": null,
      "metadata": {
        "id": "wP6BgtRib00-"
      },
      "outputs": [],
      "source": [
        "def small_cnn():\n",
        "    model = Sequential()\n",
        "    model.add(Conv2D(32, (5, 5), padding='same',\n",
        "                     input_shape=(IMG_SIZE, IMG_SIZE, 3),\n",
        "                     activation='relu'))\n",
        "    model.add(Conv2D(64, (5, 5), activation='relu'))   \n",
        "    model.add(Flatten())\n",
        "    model.add(Dense(768, activation='relu'))\n",
        "    model.add(Dropout(0.4))\n",
        "    model.add(Dense(NUM_CLASSES, activation='softmax'))\n",
        "    return model\n",
        "\n",
        "\n",
        "model = small_cnn()\n",
        "model.compile(loss='categorical_crossentropy', \n",
        "              optimizer=Adam(),\n",
        "              metrics=['accuracy'])"
      ]
    },
    {
      "cell_type": "code",
      "execution_count": null,
      "metadata": {
        "id": "vifoZNqpcU1z"
      },
      "outputs": [],
      "source": [
        "history = model.fit_generator(train_gen,\n",
        "                              steps_per_epoch=len(X) // batch_size,\n",
        "                              validation_data=val_gen,\n",
        "                              validation_steps=len(Xt) // batch_size,\n",
        "                              class_weight=class_weight,\n",
        "                              epochs=100, \n",
        "                              verbose=2)"
      ]
    },
    {
      "cell_type": "code",
      "execution_count": null,
      "metadata": {
        "id": "rQYvzGC5cuDU"
      },
      "outputs": [],
      "source": [
        "print(\"Melhor acurácia: {:0.3f}\"\n",
        "       .format(np.max(history.history['val_accuracy'])))"
      ]
    }
  ],
  "metadata": {
    "accelerator": "GPU",
    "colab": {
      "provenance": []
    },
    "kernelspec": {
      "display_name": "Python [conda env:dl4dummies]",
      "language": "python",
      "name": "conda-env-dl4dummies-py"
    },
    "language_info": {
      "codemirror_mode": {
        "name": "ipython",
        "version": 3
      },
      "file_extension": ".py",
      "mimetype": "text/x-python",
      "name": "python",
      "nbconvert_exporter": "python",
      "pygments_lexer": "ipython3",
      "version": "3.6.6"
    }
  },
  "nbformat": 4,
  "nbformat_minor": 0
}